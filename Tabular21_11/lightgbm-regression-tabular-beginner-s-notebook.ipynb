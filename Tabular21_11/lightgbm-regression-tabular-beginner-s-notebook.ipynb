{
 "cells": [
  {
   "cell_type": "markdown",
   "metadata": {},
   "source": [
    "# Reference\n",
    "###  https://www.kaggle.com/yuyougnchan/tps-nov-lightgbm-baseline/notebook\n",
    "### https://www.kaggle.com/sergiosaharovskiy/tps-nov-2021-a-complete-guide"
   ]
  },
  {
   "cell_type": "code",
   "execution_count": 1,
   "metadata": {
    "_cell_guid": "b1076dfc-b9ad-4769-8c92-a6c4dae69d19",
    "_uuid": "8f2839f25d086af736a60e9eeb907d3b93b6e0e5"
   },
   "outputs": [
    {
     "data": {
      "text/plain": [
       "'\\n# This Python 3 environment comes with many helpful analytics libraries installed\\n# It is defined by the kaggle/python Docker image: https://github.com/kaggle/docker-python\\n# For example, here\\'s several helpful packages to load\\n\\nimport numpy as np # linear algebra\\nimport pandas as pd # data processing, CSV file I/O (e.g. pd.read_csv)\\n\\n# Input data files are available in the read-only \"../input/\" directory\\n# For example, running this (by clicking run or pressing Shift+Enter) will list all files under the input directory\\n\\nimport os\\nfor dirname, _, filenames in os.walk(\\'/kaggle/input\\'):\\n    for filename in filenames:\\n        print(os.path.join(dirname, filename))\\n\\n# You can write up to 20GB to the current directory (/kaggle/working/) that gets preserved as output when you create a version using \"Save & Run All\" \\n# You can also write temporary files to /kaggle/temp/, but they won\\'t be saved outside of the current session\\n'"
      ]
     },
     "execution_count": 1,
     "metadata": {},
     "output_type": "execute_result"
    }
   ],
   "source": [
    "\"\"\"\n",
    "# This Python 3 environment comes with many helpful analytics libraries installed\n",
    "# It is defined by the kaggle/python Docker image: https://github.com/kaggle/docker-python\n",
    "# For example, here's several helpful packages to load\n",
    "\n",
    "import numpy as np # linear algebra\n",
    "import pandas as pd # data processing, CSV file I/O (e.g. pd.read_csv)\n",
    "\n",
    "# Input data files are available in the read-only \"../input/\" directory\n",
    "# For example, running this (by clicking run or pressing Shift+Enter) will list all files under the input directory\n",
    "\n",
    "import os\n",
    "for dirname, _, filenames in os.walk('/kaggle/input'):\n",
    "    for filename in filenames:\n",
    "        print(os.path.join(dirname, filename))\n",
    "\n",
    "# You can write up to 20GB to the current directory (/kaggle/working/) that gets preserved as output when you create a version using \"Save & Run All\" \n",
    "# You can also write temporary files to /kaggle/temp/, but they won't be saved outside of the current session\n",
    "\"\"\""
   ]
  },
  {
   "cell_type": "code",
   "execution_count": 2,
   "metadata": {},
   "outputs": [],
   "source": [
    "import os\n",
    "os.environ[\"CUDA_DEVICE_ORDER\"] = \"PCI_BUS_ID\"\n",
    "os.environ[\"CUDA_VISIBLE_DEVICES\"] = \"2\""
   ]
  },
  {
   "cell_type": "code",
   "execution_count": 3,
   "metadata": {
    "tags": []
   },
   "outputs": [],
   "source": [
    "import pandas as pd\n",
    "import numpy as np\n",
    "import matplotlib.pyplot as plt\n",
    "import matplotlib.lines as mlines\n",
    "import matplotlib.transforms as mtransforms\n",
    "from sklearn.linear_model import LogisticRegression\n",
    "\n",
    "from xgboost import XGBClassifier\n",
    "from lightgbm import LGBMClassifier\n",
    "from sklearn.ensemble import RandomForestClassifier, GradientBoostingClassifier\n",
    "from sklearn.metrics import roc_curve, roc_auc_score, accuracy_score\n",
    "from sklearn.model_selection import GridSearchCV,train_test_split\n",
    "\n",
    "from sklearn.metrics import mean_squared_error\n",
    "from math import sqrt\n",
    "import matplotlib.pyplot as plt\n",
    "import gc"
   ]
  },
  {
   "cell_type": "code",
   "execution_count": 4,
   "metadata": {
    "tags": []
   },
   "outputs": [],
   "source": [
    "#DATASET_PATH =\"/kaggle/input/tabular-playground-series-nov-2021/\"\n",
    "DATASET_PATH =\"./dataset/\"\n",
    "train = pd.read_csv(DATASET_PATH + \"train.csv\")\n",
    "test = pd.read_csv(DATASET_PATH + \"test.csv\")"
   ]
  },
  {
   "cell_type": "code",
   "execution_count": 5,
   "metadata": {
    "tags": []
   },
   "outputs": [
    {
     "data": {
      "text/plain": [
       "Series([], dtype: int64)"
      ]
     },
     "execution_count": 5,
     "metadata": {},
     "output_type": "execute_result"
    }
   ],
   "source": [
    "train.isnull().sum()[train.isnull().sum() != 0 ]"
   ]
  },
  {
   "cell_type": "code",
   "execution_count": 6,
   "metadata": {
    "tags": []
   },
   "outputs": [],
   "source": [
    "train_df = train.drop(['id'],axis=1)\n",
    "test_df = test.drop(['id'],axis=1)"
   ]
  },
  {
   "cell_type": "code",
   "execution_count": 7,
   "metadata": {
    "tags": []
   },
   "outputs": [],
   "source": [
    "X = train_df.drop('target', axis=1)\n",
    "Y = train_df['target']\n",
    "cols = ['f'+str(i) for i in range(100)]\n",
    "X_train, X_valid, y_train, y_valid = train_test_split(X, Y, test_size=0.2,\n",
    "                                                     shuffle=True, random_state=0)"
   ]
  },
  {
   "cell_type": "code",
   "execution_count": 8,
   "metadata": {
    "tags": []
   },
   "outputs": [
    {
     "data": {
      "text/html": [
       "<div>\n",
       "<style scoped>\n",
       "    .dataframe tbody tr th:only-of-type {\n",
       "        vertical-align: middle;\n",
       "    }\n",
       "\n",
       "    .dataframe tbody tr th {\n",
       "        vertical-align: top;\n",
       "    }\n",
       "\n",
       "    .dataframe thead th {\n",
       "        text-align: right;\n",
       "    }\n",
       "</style>\n",
       "<table border=\"1\" class=\"dataframe\">\n",
       "  <thead>\n",
       "    <tr style=\"text-align: right;\">\n",
       "      <th></th>\n",
       "      <th>f0</th>\n",
       "      <th>f1</th>\n",
       "      <th>f2</th>\n",
       "      <th>f3</th>\n",
       "      <th>f4</th>\n",
       "      <th>f5</th>\n",
       "      <th>f6</th>\n",
       "      <th>f7</th>\n",
       "      <th>f8</th>\n",
       "      <th>f9</th>\n",
       "      <th>...</th>\n",
       "      <th>f90</th>\n",
       "      <th>f91</th>\n",
       "      <th>f92</th>\n",
       "      <th>f93</th>\n",
       "      <th>f94</th>\n",
       "      <th>f95</th>\n",
       "      <th>f96</th>\n",
       "      <th>f97</th>\n",
       "      <th>f98</th>\n",
       "      <th>f99</th>\n",
       "    </tr>\n",
       "  </thead>\n",
       "  <tbody>\n",
       "    <tr>\n",
       "      <th>0</th>\n",
       "      <td>0.106643</td>\n",
       "      <td>3.594370</td>\n",
       "      <td>132.8040</td>\n",
       "      <td>3.184280</td>\n",
       "      <td>0.081971</td>\n",
       "      <td>1.18859</td>\n",
       "      <td>3.732380</td>\n",
       "      <td>2.266270</td>\n",
       "      <td>2.099590</td>\n",
       "      <td>0.012330</td>\n",
       "      <td>...</td>\n",
       "      <td>0.010739</td>\n",
       "      <td>1.098620</td>\n",
       "      <td>0.013331</td>\n",
       "      <td>-0.011715</td>\n",
       "      <td>0.052759</td>\n",
       "      <td>0.065400</td>\n",
       "      <td>4.211250</td>\n",
       "      <td>1.978770</td>\n",
       "      <td>0.085974</td>\n",
       "      <td>0.240496</td>\n",
       "    </tr>\n",
       "    <tr>\n",
       "      <th>1</th>\n",
       "      <td>0.125021</td>\n",
       "      <td>1.673360</td>\n",
       "      <td>76.5336</td>\n",
       "      <td>3.378250</td>\n",
       "      <td>0.099400</td>\n",
       "      <td>5.09366</td>\n",
       "      <td>1.275620</td>\n",
       "      <td>-0.471318</td>\n",
       "      <td>4.545940</td>\n",
       "      <td>0.037706</td>\n",
       "      <td>...</td>\n",
       "      <td>0.135838</td>\n",
       "      <td>3.460170</td>\n",
       "      <td>0.017054</td>\n",
       "      <td>0.124863</td>\n",
       "      <td>0.154064</td>\n",
       "      <td>0.606848</td>\n",
       "      <td>-0.267928</td>\n",
       "      <td>2.577860</td>\n",
       "      <td>-0.020877</td>\n",
       "      <td>0.024719</td>\n",
       "    </tr>\n",
       "    <tr>\n",
       "      <th>2</th>\n",
       "      <td>0.036330</td>\n",
       "      <td>1.497470</td>\n",
       "      <td>233.5460</td>\n",
       "      <td>2.194350</td>\n",
       "      <td>0.026914</td>\n",
       "      <td>3.12694</td>\n",
       "      <td>5.056870</td>\n",
       "      <td>3.849460</td>\n",
       "      <td>1.801870</td>\n",
       "      <td>0.056995</td>\n",
       "      <td>...</td>\n",
       "      <td>0.117310</td>\n",
       "      <td>4.883000</td>\n",
       "      <td>0.085222</td>\n",
       "      <td>0.032396</td>\n",
       "      <td>0.116092</td>\n",
       "      <td>-0.001688</td>\n",
       "      <td>-0.520069</td>\n",
       "      <td>2.141120</td>\n",
       "      <td>0.124464</td>\n",
       "      <td>0.148209</td>\n",
       "    </tr>\n",
       "    <tr>\n",
       "      <th>3</th>\n",
       "      <td>-0.014077</td>\n",
       "      <td>0.246000</td>\n",
       "      <td>779.9670</td>\n",
       "      <td>1.890640</td>\n",
       "      <td>0.006948</td>\n",
       "      <td>1.53112</td>\n",
       "      <td>2.698000</td>\n",
       "      <td>4.517330</td>\n",
       "      <td>4.503320</td>\n",
       "      <td>0.123494</td>\n",
       "      <td>...</td>\n",
       "      <td>-0.015347</td>\n",
       "      <td>3.474390</td>\n",
       "      <td>-0.017103</td>\n",
       "      <td>-0.008100</td>\n",
       "      <td>0.062013</td>\n",
       "      <td>0.041193</td>\n",
       "      <td>0.511657</td>\n",
       "      <td>1.968600</td>\n",
       "      <td>0.040017</td>\n",
       "      <td>0.044873</td>\n",
       "    </tr>\n",
       "    <tr>\n",
       "      <th>4</th>\n",
       "      <td>-0.003259</td>\n",
       "      <td>3.715420</td>\n",
       "      <td>156.1280</td>\n",
       "      <td>2.147720</td>\n",
       "      <td>0.018284</td>\n",
       "      <td>2.09859</td>\n",
       "      <td>4.154920</td>\n",
       "      <td>-0.038236</td>\n",
       "      <td>3.371450</td>\n",
       "      <td>0.034166</td>\n",
       "      <td>...</td>\n",
       "      <td>0.013781</td>\n",
       "      <td>1.910590</td>\n",
       "      <td>-0.042943</td>\n",
       "      <td>0.105616</td>\n",
       "      <td>0.125072</td>\n",
       "      <td>0.037509</td>\n",
       "      <td>1.043790</td>\n",
       "      <td>1.074810</td>\n",
       "      <td>-0.012819</td>\n",
       "      <td>0.072798</td>\n",
       "    </tr>\n",
       "    <tr>\n",
       "      <th>...</th>\n",
       "      <td>...</td>\n",
       "      <td>...</td>\n",
       "      <td>...</td>\n",
       "      <td>...</td>\n",
       "      <td>...</td>\n",
       "      <td>...</td>\n",
       "      <td>...</td>\n",
       "      <td>...</td>\n",
       "      <td>...</td>\n",
       "      <td>...</td>\n",
       "      <td>...</td>\n",
       "      <td>...</td>\n",
       "      <td>...</td>\n",
       "      <td>...</td>\n",
       "      <td>...</td>\n",
       "      <td>...</td>\n",
       "      <td>...</td>\n",
       "      <td>...</td>\n",
       "      <td>...</td>\n",
       "      <td>...</td>\n",
       "      <td>...</td>\n",
       "    </tr>\n",
       "    <tr>\n",
       "      <th>599995</th>\n",
       "      <td>0.043008</td>\n",
       "      <td>1.640550</td>\n",
       "      <td>1375.8900</td>\n",
       "      <td>1.087030</td>\n",
       "      <td>0.839580</td>\n",
       "      <td>1.69362</td>\n",
       "      <td>3.843520</td>\n",
       "      <td>1.108250</td>\n",
       "      <td>1.505390</td>\n",
       "      <td>-0.022177</td>\n",
       "      <td>...</td>\n",
       "      <td>0.046537</td>\n",
       "      <td>1.552280</td>\n",
       "      <td>0.080317</td>\n",
       "      <td>0.017643</td>\n",
       "      <td>0.225133</td>\n",
       "      <td>0.073179</td>\n",
       "      <td>4.436510</td>\n",
       "      <td>1.739330</td>\n",
       "      <td>0.049038</td>\n",
       "      <td>0.065804</td>\n",
       "    </tr>\n",
       "    <tr>\n",
       "      <th>599996</th>\n",
       "      <td>0.137048</td>\n",
       "      <td>4.826860</td>\n",
       "      <td>-99.6478</td>\n",
       "      <td>0.985289</td>\n",
       "      <td>0.037712</td>\n",
       "      <td>3.30370</td>\n",
       "      <td>2.471790</td>\n",
       "      <td>5.942130</td>\n",
       "      <td>0.875148</td>\n",
       "      <td>-0.009738</td>\n",
       "      <td>...</td>\n",
       "      <td>0.109293</td>\n",
       "      <td>1.345210</td>\n",
       "      <td>0.092457</td>\n",
       "      <td>0.081926</td>\n",
       "      <td>0.234041</td>\n",
       "      <td>0.041383</td>\n",
       "      <td>3.873990</td>\n",
       "      <td>1.870100</td>\n",
       "      <td>0.162313</td>\n",
       "      <td>0.085662</td>\n",
       "    </tr>\n",
       "    <tr>\n",
       "      <th>599997</th>\n",
       "      <td>1.316220</td>\n",
       "      <td>0.502062</td>\n",
       "      <td>66.2360</td>\n",
       "      <td>2.233020</td>\n",
       "      <td>0.060038</td>\n",
       "      <td>3.77371</td>\n",
       "      <td>2.655340</td>\n",
       "      <td>3.155890</td>\n",
       "      <td>1.055020</td>\n",
       "      <td>0.025137</td>\n",
       "      <td>...</td>\n",
       "      <td>0.117131</td>\n",
       "      <td>2.181150</td>\n",
       "      <td>0.032708</td>\n",
       "      <td>0.109668</td>\n",
       "      <td>0.027466</td>\n",
       "      <td>0.061931</td>\n",
       "      <td>-0.383329</td>\n",
       "      <td>0.922113</td>\n",
       "      <td>0.084864</td>\n",
       "      <td>0.052635</td>\n",
       "    </tr>\n",
       "    <tr>\n",
       "      <th>599998</th>\n",
       "      <td>0.511918</td>\n",
       "      <td>3.827470</td>\n",
       "      <td>777.8720</td>\n",
       "      <td>0.285914</td>\n",
       "      <td>0.520157</td>\n",
       "      <td>2.76285</td>\n",
       "      <td>2.522200</td>\n",
       "      <td>1.561360</td>\n",
       "      <td>1.971140</td>\n",
       "      <td>0.461982</td>\n",
       "      <td>...</td>\n",
       "      <td>0.072443</td>\n",
       "      <td>0.366702</td>\n",
       "      <td>0.070943</td>\n",
       "      <td>0.071452</td>\n",
       "      <td>-0.038071</td>\n",
       "      <td>0.038829</td>\n",
       "      <td>-0.122888</td>\n",
       "      <td>3.107790</td>\n",
       "      <td>0.061333</td>\n",
       "      <td>0.004179</td>\n",
       "    </tr>\n",
       "    <tr>\n",
       "      <th>599999</th>\n",
       "      <td>0.179347</td>\n",
       "      <td>3.457390</td>\n",
       "      <td>160.5980</td>\n",
       "      <td>3.297320</td>\n",
       "      <td>0.102784</td>\n",
       "      <td>1.89434</td>\n",
       "      <td>0.057866</td>\n",
       "      <td>2.073280</td>\n",
       "      <td>1.191480</td>\n",
       "      <td>0.025498</td>\n",
       "      <td>...</td>\n",
       "      <td>0.088059</td>\n",
       "      <td>2.282780</td>\n",
       "      <td>0.160674</td>\n",
       "      <td>0.029301</td>\n",
       "      <td>1.059810</td>\n",
       "      <td>0.007639</td>\n",
       "      <td>3.732990</td>\n",
       "      <td>1.965300</td>\n",
       "      <td>0.049075</td>\n",
       "      <td>0.044436</td>\n",
       "    </tr>\n",
       "  </tbody>\n",
       "</table>\n",
       "<p>600000 rows × 100 columns</p>\n",
       "</div>"
      ],
      "text/plain": [
       "              f0        f1         f2        f3        f4       f5        f6  \\\n",
       "0       0.106643  3.594370   132.8040  3.184280  0.081971  1.18859  3.732380   \n",
       "1       0.125021  1.673360    76.5336  3.378250  0.099400  5.09366  1.275620   \n",
       "2       0.036330  1.497470   233.5460  2.194350  0.026914  3.12694  5.056870   \n",
       "3      -0.014077  0.246000   779.9670  1.890640  0.006948  1.53112  2.698000   \n",
       "4      -0.003259  3.715420   156.1280  2.147720  0.018284  2.09859  4.154920   \n",
       "...          ...       ...        ...       ...       ...      ...       ...   \n",
       "599995  0.043008  1.640550  1375.8900  1.087030  0.839580  1.69362  3.843520   \n",
       "599996  0.137048  4.826860   -99.6478  0.985289  0.037712  3.30370  2.471790   \n",
       "599997  1.316220  0.502062    66.2360  2.233020  0.060038  3.77371  2.655340   \n",
       "599998  0.511918  3.827470   777.8720  0.285914  0.520157  2.76285  2.522200   \n",
       "599999  0.179347  3.457390   160.5980  3.297320  0.102784  1.89434  0.057866   \n",
       "\n",
       "              f7        f8        f9  ...       f90       f91       f92  \\\n",
       "0       2.266270  2.099590  0.012330  ...  0.010739  1.098620  0.013331   \n",
       "1      -0.471318  4.545940  0.037706  ...  0.135838  3.460170  0.017054   \n",
       "2       3.849460  1.801870  0.056995  ...  0.117310  4.883000  0.085222   \n",
       "3       4.517330  4.503320  0.123494  ... -0.015347  3.474390 -0.017103   \n",
       "4      -0.038236  3.371450  0.034166  ...  0.013781  1.910590 -0.042943   \n",
       "...          ...       ...       ...  ...       ...       ...       ...   \n",
       "599995  1.108250  1.505390 -0.022177  ...  0.046537  1.552280  0.080317   \n",
       "599996  5.942130  0.875148 -0.009738  ...  0.109293  1.345210  0.092457   \n",
       "599997  3.155890  1.055020  0.025137  ...  0.117131  2.181150  0.032708   \n",
       "599998  1.561360  1.971140  0.461982  ...  0.072443  0.366702  0.070943   \n",
       "599999  2.073280  1.191480  0.025498  ...  0.088059  2.282780  0.160674   \n",
       "\n",
       "             f93       f94       f95       f96       f97       f98       f99  \n",
       "0      -0.011715  0.052759  0.065400  4.211250  1.978770  0.085974  0.240496  \n",
       "1       0.124863  0.154064  0.606848 -0.267928  2.577860 -0.020877  0.024719  \n",
       "2       0.032396  0.116092 -0.001688 -0.520069  2.141120  0.124464  0.148209  \n",
       "3      -0.008100  0.062013  0.041193  0.511657  1.968600  0.040017  0.044873  \n",
       "4       0.105616  0.125072  0.037509  1.043790  1.074810 -0.012819  0.072798  \n",
       "...          ...       ...       ...       ...       ...       ...       ...  \n",
       "599995  0.017643  0.225133  0.073179  4.436510  1.739330  0.049038  0.065804  \n",
       "599996  0.081926  0.234041  0.041383  3.873990  1.870100  0.162313  0.085662  \n",
       "599997  0.109668  0.027466  0.061931 -0.383329  0.922113  0.084864  0.052635  \n",
       "599998  0.071452 -0.038071  0.038829 -0.122888  3.107790  0.061333  0.004179  \n",
       "599999  0.029301  1.059810  0.007639  3.732990  1.965300  0.049075  0.044436  \n",
       "\n",
       "[600000 rows x 100 columns]"
      ]
     },
     "execution_count": 8,
     "metadata": {},
     "output_type": "execute_result"
    }
   ],
   "source": [
    "X"
   ]
  },
  {
   "cell_type": "code",
   "execution_count": 9,
   "metadata": {
    "tags": []
   },
   "outputs": [],
   "source": [
    "def rmse(y_true, y_pred):\n",
    "    return sqrt(mean_squared_error(y_true, y_pred))"
   ]
  },
  {
   "cell_type": "code",
   "execution_count": 10,
   "metadata": {
    "tags": []
   },
   "outputs": [],
   "source": [
    "def load_model():\n",
    "    # rf : Check failed: config->bagging_freq > 0 && config->bagging_fraction < 1.0f && config->bagging_fraction > 0.0f at /media/2/hwbae0326/package/LightGBM/src/boosting/rf.hpp\n",
    "    lgbm_clf = LGBMClassifier( boosting_type='gbdt', class_weight=None,\n",
    "               colsample_bytree=0.35, # # same thing\n",
    "               importance_type='split', learning_rate=0.1, max_depth=15,\n",
    "               min_child_samples=20, min_child_weight=0.001, min_split_gain=0.0,\n",
    "               n_estimators=2300,  num_leaves=21, objective=None,\n",
    "               random_state=None, reg_alpha=0.0, reg_lambda=5, silent=True,\n",
    "               subsample=0.4, subsample_for_bin=200000,  subsample_freq=0,\n",
    "                              n_jobs=10,device=\"cuda\")\n",
    "    return lgbm_clf"
   ]
  },
  {
   "cell_type": "code",
   "execution_count": 19,
   "metadata": {
    "tags": []
   },
   "outputs": [],
   "source": [
    "preds = np.zeros(test.shape[0])\n",
    "auc = []\n",
    "acc = []\n",
    "n = 0"
   ]
  },
  {
   "cell_type": "code",
   "execution_count": 21,
   "metadata": {
    "scrolled": true,
    "tags": []
   },
   "outputs": [
    {
     "name": "stdout",
     "output_type": "stream",
     "text": [
      "fold: 4 train start\n",
      "fold: 4 , accuracy: 70.54 , auc: 74.14, rmse : 0.5428\n",
      "fold: 5 train start\n",
      "fold: 5 , accuracy: 70.473 , auc: 74.054, rmse : 0.5434\n",
      "fold: 6 train start\n",
      "fold: 6 , accuracy: 70.482 , auc: 73.937, rmse : 0.5433\n",
      "fold: 7 train start\n",
      "fold: 7 , accuracy: 70.348 , auc: 73.869, rmse : 0.5445\n",
      "fold: 8 train start\n",
      "fold: 8 , accuracy: 70.493 , auc: 74.13, rmse : 0.5432\n",
      "fold: 9 train start\n",
      "fold: 9 , accuracy: 70.661 , auc: 74.183, rmse : 0.5417\n",
      "fold: 10 train start\n",
      "fold: 10 , accuracy: 70.629 , auc: 73.996, rmse : 0.542\n",
      "CPU times: user 48min 31s, sys: 45.5 s, total: 49min 16s\n",
      "Wall time: 3min 18s\n"
     ]
    }
   ],
   "source": [
    "%%time\n",
    "from sklearn.model_selection import StratifiedKFold\n",
    "kf = StratifiedKFold(n_splits=7, random_state=33, shuffle=True)\n",
    "for train_idx, test_idx in kf.split(X_train[cols],y_train):\n",
    "    xtrain, xval = X_train[cols].iloc[train_idx], X_train[cols].iloc[test_idx]\n",
    "    ytrain, yval = y_train.iloc[train_idx], y_train.iloc[test_idx]\n",
    "    \n",
    "    model = load_model()\n",
    "    print('fold: %d train start'%(n+1))\n",
    "    model.fit(xtrain, ytrain, eval_set =[(xval,yval)], verbose=False)\n",
    "    local_preds =  model.predict(test_df[cols]) \n",
    "    \n",
    "    preds += local_preds\n",
    "    auc.append(roc_auc_score(yval, model.predict_proba(xval)[:, 1]))\n",
    "    acc.append(accuracy_score(yval, model.predict(xval)))\n",
    "\n",
    "    val_pred = model.predict(xval)\n",
    "    print(f\"fold: {n+1} , accuracy: {round(acc[n]*100,3)} , auc: {round(auc[n]*100,3)}, rmse : {round(rmse(val_pred,yval),4)}\")\n",
    "    n+=1"
   ]
  },
  {
   "cell_type": "code",
   "execution_count": 20,
   "metadata": {
    "tags": []
   },
   "outputs": [
    {
     "name": "stdout",
     "output_type": "stream",
     "text": [
      "fold: 1 train start\n"
     ]
    },
    {
     "name": "stderr",
     "output_type": "stream",
     "text": [
      "/media/2/hwbae0326/anaconda3/envs/kaggle/lib/python3.7/site-packages/sklearn/linear_model/_logistic.py:765: ConvergenceWarning: lbfgs failed to converge (status=1):\n",
      "STOP: TOTAL NO. of ITERATIONS REACHED LIMIT.\n",
      "\n",
      "Increase the number of iterations (max_iter) or scale the data as shown in:\n",
      "    https://scikit-learn.org/stable/modules/preprocessing.html\n",
      "Please also refer to the documentation for alternative solver options:\n",
      "    https://scikit-learn.org/stable/modules/linear_model.html#logistic-regression\n",
      "  extra_warning_msg=_LOGISTIC_SOLVER_CONVERGENCE_MSG)\n"
     ]
    },
    {
     "name": "stdout",
     "output_type": "stream",
     "text": [
      "fold: 1 , accuracy: 71.322 , auc: 74.224, rmse : 0.5355\n",
      "fold: 2 train start\n"
     ]
    },
    {
     "name": "stderr",
     "output_type": "stream",
     "text": [
      "/media/2/hwbae0326/anaconda3/envs/kaggle/lib/python3.7/site-packages/sklearn/linear_model/_logistic.py:765: ConvergenceWarning: lbfgs failed to converge (status=1):\n",
      "STOP: TOTAL NO. of ITERATIONS REACHED LIMIT.\n",
      "\n",
      "Increase the number of iterations (max_iter) or scale the data as shown in:\n",
      "    https://scikit-learn.org/stable/modules/preprocessing.html\n",
      "Please also refer to the documentation for alternative solver options:\n",
      "    https://scikit-learn.org/stable/modules/linear_model.html#logistic-regression\n",
      "  extra_warning_msg=_LOGISTIC_SOLVER_CONVERGENCE_MSG)\n"
     ]
    },
    {
     "name": "stdout",
     "output_type": "stream",
     "text": [
      "fold: 2 , accuracy: 71.358 , auc: 74.082, rmse : 0.5352\n",
      "fold: 3 train start\n"
     ]
    },
    {
     "name": "stderr",
     "output_type": "stream",
     "text": [
      "/media/2/hwbae0326/anaconda3/envs/kaggle/lib/python3.7/site-packages/sklearn/linear_model/_logistic.py:765: ConvergenceWarning: lbfgs failed to converge (status=1):\n",
      "STOP: TOTAL NO. of ITERATIONS REACHED LIMIT.\n",
      "\n",
      "Increase the number of iterations (max_iter) or scale the data as shown in:\n",
      "    https://scikit-learn.org/stable/modules/preprocessing.html\n",
      "Please also refer to the documentation for alternative solver options:\n",
      "    https://scikit-learn.org/stable/modules/linear_model.html#logistic-regression\n",
      "  extra_warning_msg=_LOGISTIC_SOLVER_CONVERGENCE_MSG)\n"
     ]
    },
    {
     "name": "stdout",
     "output_type": "stream",
     "text": [
      "fold: 3 , accuracy: 71.388 , auc: 74.222, rmse : 0.5349\n",
      "CPU times: user 11min 6s, sys: 10.8 s, total: 11min 17s\n",
      "Wall time: 1min 9s\n"
     ]
    }
   ],
   "source": [
    "%%time\n",
    "kf = StratifiedKFold(n_splits=3, random_state=33, shuffle=True)\n",
    "for train_idx, test_idx in kf.split(X_train[cols],y_train):\n",
    "    xtrain, xval = X_train[cols].iloc[train_idx], X_train[cols].iloc[test_idx]\n",
    "    ytrain, yval = y_train.iloc[train_idx], y_train.iloc[test_idx]\n",
    "    \"\"\"\n",
    "    model = XGBClassifier( n_estimators=2300, learning_rate=0.1, max_depth=15,\n",
    "                          objective=None, random_state=None, reg_alpha=0.0, reg_lambda=5,\n",
    "                           subsample=0.7, colsample_bytree=0.7,\n",
    "                          use_label_encoder=False,\n",
    "                          eval_metric='rmse',n_jobs=10)\n",
    "    \"\"\"\n",
    "    model = LogisticRegression(max_iter=500)\n",
    "    \n",
    "    print('fold: %d train start'%(n+1))\n",
    "    model.fit(xtrain, ytrain)\n",
    "    local_preds =  model.predict(test_df[cols]) \n",
    "    preds += local_preds\n",
    "    auc.append(roc_auc_score(yval, model.predict_proba(xval)[:, 1]))\n",
    "    acc.append(accuracy_score(yval, model.predict(xval)))\n",
    "\n",
    "    val_pred = model.predict(xval)\n",
    "    print(f\"fold: {n+1} , accuracy: {round(acc[n]*100,3)} , auc: {round(auc[n]*100,3)}, rmse : {round(rmse(val_pred,yval),4)}\")\n",
    "    \n",
    "    n+=1"
   ]
  },
  {
   "cell_type": "code",
   "execution_count": null,
   "metadata": {},
   "outputs": [],
   "source": []
  },
  {
   "cell_type": "code",
   "execution_count": 22,
   "metadata": {
    "tags": []
   },
   "outputs": [
    {
     "data": {
      "text/plain": [
       "array([1. , 0.9, 1. , ..., 0.8, 1. , 0.9])"
      ]
     },
     "execution_count": 22,
     "metadata": {},
     "output_type": "execute_result"
    }
   ],
   "source": [
    "preds = preds / n\n",
    "preds"
   ]
  },
  {
   "cell_type": "code",
   "execution_count": 23,
   "metadata": {},
   "outputs": [
    {
     "name": "stdout",
     "output_type": "stream",
     "text": [
      "/bin/bash: stop: command not found\n"
     ]
    }
   ],
   "source": [
    "!stop here"
   ]
  },
  {
   "cell_type": "code",
   "execution_count": 24,
   "metadata": {},
   "outputs": [
    {
     "data": {
      "text/html": [
       "<div>\n",
       "<style scoped>\n",
       "    .dataframe tbody tr th:only-of-type {\n",
       "        vertical-align: middle;\n",
       "    }\n",
       "\n",
       "    .dataframe tbody tr th {\n",
       "        vertical-align: top;\n",
       "    }\n",
       "\n",
       "    .dataframe thead th {\n",
       "        text-align: right;\n",
       "    }\n",
       "</style>\n",
       "<table border=\"1\" class=\"dataframe\">\n",
       "  <thead>\n",
       "    <tr style=\"text-align: right;\">\n",
       "      <th></th>\n",
       "      <th>id</th>\n",
       "      <th>target</th>\n",
       "    </tr>\n",
       "  </thead>\n",
       "  <tbody>\n",
       "    <tr>\n",
       "      <th>0</th>\n",
       "      <td>600000</td>\n",
       "      <td>1.0</td>\n",
       "    </tr>\n",
       "    <tr>\n",
       "      <th>1</th>\n",
       "      <td>600001</td>\n",
       "      <td>0.9</td>\n",
       "    </tr>\n",
       "    <tr>\n",
       "      <th>2</th>\n",
       "      <td>600002</td>\n",
       "      <td>1.0</td>\n",
       "    </tr>\n",
       "    <tr>\n",
       "      <th>3</th>\n",
       "      <td>600003</td>\n",
       "      <td>0.7</td>\n",
       "    </tr>\n",
       "    <tr>\n",
       "      <th>4</th>\n",
       "      <td>600004</td>\n",
       "      <td>0.0</td>\n",
       "    </tr>\n",
       "    <tr>\n",
       "      <th>...</th>\n",
       "      <td>...</td>\n",
       "      <td>...</td>\n",
       "    </tr>\n",
       "    <tr>\n",
       "      <th>539995</th>\n",
       "      <td>1139995</td>\n",
       "      <td>1.0</td>\n",
       "    </tr>\n",
       "    <tr>\n",
       "      <th>539996</th>\n",
       "      <td>1139996</td>\n",
       "      <td>1.0</td>\n",
       "    </tr>\n",
       "    <tr>\n",
       "      <th>539997</th>\n",
       "      <td>1139997</td>\n",
       "      <td>0.8</td>\n",
       "    </tr>\n",
       "    <tr>\n",
       "      <th>539998</th>\n",
       "      <td>1139998</td>\n",
       "      <td>1.0</td>\n",
       "    </tr>\n",
       "    <tr>\n",
       "      <th>539999</th>\n",
       "      <td>1139999</td>\n",
       "      <td>0.9</td>\n",
       "    </tr>\n",
       "  </tbody>\n",
       "</table>\n",
       "<p>540000 rows × 2 columns</p>\n",
       "</div>"
      ],
      "text/plain": [
       "             id  target\n",
       "0        600000     1.0\n",
       "1        600001     0.9\n",
       "2        600002     1.0\n",
       "3        600003     0.7\n",
       "4        600004     0.0\n",
       "...         ...     ...\n",
       "539995  1139995     1.0\n",
       "539996  1139996     1.0\n",
       "539997  1139997     0.8\n",
       "539998  1139998     1.0\n",
       "539999  1139999     0.9\n",
       "\n",
       "[540000 rows x 2 columns]"
      ]
     },
     "execution_count": 24,
     "metadata": {},
     "output_type": "execute_result"
    }
   ],
   "source": [
    "sub = pd.read_csv(DATASET_PATH+'/sample_submission.csv')\n",
    "sub['target'] = preds\n",
    "sub.to_csv('submission7.csv',index=False)\n",
    "sub"
   ]
  },
  {
   "cell_type": "code",
   "execution_count": 25,
   "metadata": {},
   "outputs": [
    {
     "name": "stdout",
     "output_type": "stream",
     "text": [
      "100%|██████████████████████████████████████| 5.80M/5.80M [00:03<00:00, 1.89MB/s]\n",
      "Successfully submitted to Tabular Playground Series - Nov 2021"
     ]
    }
   ],
   "source": [
    "!kaggle competitions submit -c tabular-playground-series-nov-2021 -f submission7.csv -m \"LightGBM_7 + LogisticRegression_3  KFold 10\"\n"
   ]
  },
  {
   "cell_type": "code",
   "execution_count": null,
   "metadata": {},
   "outputs": [],
   "source": []
  }
 ],
 "metadata": {
  "kernelspec": {
   "display_name": "Python 3",
   "language": "python",
   "name": "python3"
  },
  "language_info": {
   "codemirror_mode": {
    "name": "ipython",
    "version": 3
   },
   "file_extension": ".py",
   "mimetype": "text/x-python",
   "name": "python",
   "nbconvert_exporter": "python",
   "pygments_lexer": "ipython3",
   "version": "3.7.10"
  }
 },
 "nbformat": 4,
 "nbformat_minor": 4
}
